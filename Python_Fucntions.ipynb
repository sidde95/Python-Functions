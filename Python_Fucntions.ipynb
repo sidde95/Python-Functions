{
  "cells": [
    {
      "cell_type": "markdown",
      "metadata": {
        "id": "view-in-github",
        "colab_type": "text"
      },
      "source": [
        "<a href=\"https://colab.research.google.com/github/sidde95/Python-Functions/blob/main/Python_Fucntions.ipynb\" target=\"_parent\"><img src=\"https://colab.research.google.com/assets/colab-badge.svg\" alt=\"Open In Colab\"/></a>"
      ]
    },
    {
      "cell_type": "markdown",
      "id": "12f2e6a6-8d3c-4189-a1f9-fa641a8a67a4",
      "metadata": {
        "id": "12f2e6a6-8d3c-4189-a1f9-fa641a8a67a4"
      },
      "source": [
        "# 1. Write a python function that takes a list of numbers as input and returns the sum of all even numbers in the list."
      ]
    },
    {
      "cell_type": "code",
      "execution_count": null,
      "id": "d6ae6265-ffef-4949-b84d-3aba42d1a360",
      "metadata": {
        "id": "d6ae6265-ffef-4949-b84d-3aba42d1a360"
      },
      "outputs": [],
      "source": [
        "def sum_even(n):\n",
        "    sum = 0\n",
        "    if type(n) == list:\n",
        "        for i in n:\n",
        "            if i%2 == 0:\n",
        "                sum+= i\n",
        "        print(sum)\n",
        "    else:\n",
        "        print(\"Entered input is not a list\")\n",
        ""
      ]
    },
    {
      "cell_type": "code",
      "execution_count": null,
      "id": "b8138bd9-3993-4a7c-b3b9-89360d773c9e",
      "metadata": {
        "id": "b8138bd9-3993-4a7c-b3b9-89360d773c9e",
        "outputId": "668d1689-b9c2-4de4-ad2f-b8d938c108c4"
      },
      "outputs": [
        {
          "name": "stdout",
          "output_type": "stream",
          "text": [
            "Entered input is not a list\n"
          ]
        }
      ],
      "source": [
        "sum_even((1, 12, 3, 2, 3, 2, 3))"
      ]
    },
    {
      "cell_type": "markdown",
      "id": "b62cc61f-e316-42af-939b-886d1a2dc0e8",
      "metadata": {
        "id": "b62cc61f-e316-42af-939b-886d1a2dc0e8"
      },
      "source": [
        "# 2. Create a Python function that accepts a string and returns the reverse of that string."
      ]
    },
    {
      "cell_type": "code",
      "execution_count": null,
      "id": "ae40100e-e8f4-44b8-90b0-a871998e2c84",
      "metadata": {
        "id": "ae40100e-e8f4-44b8-90b0-a871998e2c84"
      },
      "outputs": [],
      "source": [
        "def reverse_string(n):\n",
        "    return n[::-1]"
      ]
    },
    {
      "cell_type": "code",
      "execution_count": null,
      "id": "d2741e11-e183-43d2-9636-e4d6ff7f0b5a",
      "metadata": {
        "id": "d2741e11-e183-43d2-9636-e4d6ff7f0b5a",
        "outputId": "dcff08e0-06a0-44b8-c4cd-aa46e6c2589a"
      },
      "outputs": [
        {
          "data": {
            "text/plain": [
              "'ahtrahddiS'"
            ]
          },
          "execution_count": 50,
          "metadata": {},
          "output_type": "execute_result"
        }
      ],
      "source": [
        "reverse_string(\"Siddhartha\")"
      ]
    },
    {
      "cell_type": "markdown",
      "id": "9179a571-ce24-4f26-88ec-1ef1eeeec069",
      "metadata": {
        "id": "9179a571-ce24-4f26-88ec-1ef1eeeec069"
      },
      "source": [
        "# 3. Implement a Python function that takes a list of integers and returns a new list containing the square of each number"
      ]
    },
    {
      "cell_type": "code",
      "execution_count": null,
      "id": "ac9a3a6a-ec72-4ff2-8e0a-373a4162c724",
      "metadata": {
        "id": "ac9a3a6a-ec72-4ff2-8e0a-373a4162c724"
      },
      "outputs": [],
      "source": [
        "def square_num(n):\n",
        "    squared_list = []\n",
        "    if type(n) == list:\n",
        "        for i in n:\n",
        "            squared_list.append(i**2)\n",
        "        print(squared_list)\n",
        "    else:\n",
        "        print(\"Entered input is not a list\")"
      ]
    },
    {
      "cell_type": "code",
      "execution_count": null,
      "id": "fd572239-6dfb-4150-b9c7-9ac96a37bbde",
      "metadata": {
        "id": "fd572239-6dfb-4150-b9c7-9ac96a37bbde",
        "outputId": "ae52f84a-0e23-4c9d-9754-7e096727dc70"
      },
      "outputs": [
        {
          "name": "stdout",
          "output_type": "stream",
          "text": [
            "[4, 9, 1, 9]\n"
          ]
        }
      ],
      "source": [
        "square_num([2, 3, 1, 3])"
      ]
    },
    {
      "cell_type": "markdown",
      "id": "d684512a-1f07-4d90-a358-7ae771141e41",
      "metadata": {
        "id": "d684512a-1f07-4d90-a358-7ae771141e41"
      },
      "source": [
        "# 4. Write a Python function that checks if a given number is prime or not from 1 to 200."
      ]
    },
    {
      "cell_type": "code",
      "execution_count": null,
      "id": "66ebc2ec-d72e-4b07-a2bf-014eea54ad73",
      "metadata": {
        "id": "66ebc2ec-d72e-4b07-a2bf-014eea54ad73"
      },
      "outputs": [],
      "source": [
        "def prime_checker(n):\n",
        "    count = 0\n",
        "    for i in range(1, n+1):\n",
        "        if n%i == 0:\n",
        "            count+= 1\n",
        "    if count==1 or count == 2:\n",
        "        print(\"prime\")\n",
        "    else:\n",
        "        print(\"non-prime\")"
      ]
    },
    {
      "cell_type": "code",
      "execution_count": null,
      "id": "8abd3e21-91d5-4aa5-b912-0c07d67db274",
      "metadata": {
        "id": "8abd3e21-91d5-4aa5-b912-0c07d67db274",
        "outputId": "57c620c6-be1b-4a34-9902-1721106d0085"
      },
      "outputs": [
        {
          "name": "stdout",
          "output_type": "stream",
          "text": [
            "prime\n"
          ]
        }
      ],
      "source": [
        "prime_checker(103)"
      ]
    },
    {
      "cell_type": "markdown",
      "id": "6e6f7ace-9dcb-41bd-83b5-43bd38a2610a",
      "metadata": {
        "id": "6e6f7ace-9dcb-41bd-83b5-43bd38a2610a"
      },
      "source": [
        "#5. Create an iterator class in Python that generates the Fibonacci sequence up to a specified number of terms"
      ]
    },
    {
      "cell_type": "code",
      "execution_count": null,
      "id": "14b6f43c-0e58-49b1-a5cb-27a0285dcd47",
      "metadata": {
        "id": "14b6f43c-0e58-49b1-a5cb-27a0285dcd47"
      },
      "outputs": [],
      "source": [
        "def fibonacci_series(n):\n",
        "    a = 0\n",
        "    b = 1\n",
        "    for i in range(n):\n",
        "        print(a)\n",
        "        a, b = b, a+b"
      ]
    },
    {
      "cell_type": "code",
      "execution_count": null,
      "id": "96d924ac-c1a2-44b8-ae2f-ccc4a0ed665a",
      "metadata": {
        "id": "96d924ac-c1a2-44b8-ae2f-ccc4a0ed665a",
        "outputId": "d122c02c-e2ec-4bd4-adc3-c30e03373051"
      },
      "outputs": [
        {
          "name": "stdout",
          "output_type": "stream",
          "text": [
            "0\n",
            "1\n",
            "1\n",
            "2\n",
            "3\n",
            "5\n",
            "8\n",
            "13\n",
            "21\n",
            "34\n"
          ]
        }
      ],
      "source": [
        "fibonacci_series(10)"
      ]
    },
    {
      "cell_type": "markdown",
      "id": "a7f8c28f-8e2a-47b9-b749-b0f6493887b9",
      "metadata": {
        "id": "a7f8c28f-8e2a-47b9-b749-b0f6493887b9"
      },
      "source": [
        "# 6. Write a generator function in Python that yields the power of 2 up to a given exponent."
      ]
    },
    {
      "cell_type": "code",
      "execution_count": null,
      "id": "5d9e4d9e-757c-4c6f-83a9-6772c079d690",
      "metadata": {
        "id": "5d9e4d9e-757c-4c6f-83a9-6772c079d690"
      },
      "outputs": [],
      "source": [
        "def pow(n):\n",
        "    yield n**2"
      ]
    },
    {
      "cell_type": "code",
      "execution_count": null,
      "id": "a93ef3c5-5145-4cc7-8d7a-5a435ea51acd",
      "metadata": {
        "id": "a93ef3c5-5145-4cc7-8d7a-5a435ea51acd",
        "outputId": "e77701f3-0c22-4daa-acc5-cdae46baa2b6"
      },
      "outputs": [
        {
          "data": {
            "text/plain": [
              "<generator object pow at 0x000001EC3B54D9C0>"
            ]
          },
          "execution_count": 5,
          "metadata": {},
          "output_type": "execute_result"
        }
      ],
      "source": [
        "gen = pow(3)\n",
        "gen"
      ]
    },
    {
      "cell_type": "code",
      "execution_count": null,
      "id": "31a6a9a6-3788-4524-9f3f-5faea0028a74",
      "metadata": {
        "id": "31a6a9a6-3788-4524-9f3f-5faea0028a74",
        "outputId": "583283b5-3228-41d2-8727-c3acef679c9d"
      },
      "outputs": [
        {
          "data": {
            "text/plain": [
              "9"
            ]
          },
          "execution_count": 7,
          "metadata": {},
          "output_type": "execute_result"
        }
      ],
      "source": [
        "next(gen)"
      ]
    },
    {
      "cell_type": "markdown",
      "id": "b5ff0156-cc03-43be-a607-f129d6c30b7d",
      "metadata": {
        "id": "b5ff0156-cc03-43be-a607-f129d6c30b7d"
      },
      "source": [
        "# 7. Write a generator function that reads a file line by line and yeilds each line as a string"
      ]
    },
    {
      "cell_type": "code",
      "execution_count": 1,
      "id": "40026805-4ec1-44af-b9f6-c14d1850a820",
      "metadata": {
        "colab": {
          "base_uri": "https://localhost:8080/",
          "height": 332
        },
        "id": "40026805-4ec1-44af-b9f6-c14d1850a820",
        "outputId": "85c1a8ed-3654-4125-89fd-dd270de82fb0"
      },
      "outputs": [
        {
          "output_type": "error",
          "ename": "FileNotFoundError",
          "evalue": "[Errno 2] No such file or directory: 'example.txt'",
          "traceback": [
            "\u001b[0;31m---------------------------------------------------------------------------\u001b[0m",
            "\u001b[0;31mFileNotFoundError\u001b[0m                         Traceback (most recent call last)",
            "\u001b[0;32m<ipython-input-1-3317aaabf2b2>\u001b[0m in \u001b[0;36m<cell line: 7>\u001b[0;34m()\u001b[0m\n\u001b[1;32m      5\u001b[0m \u001b[0;34m\u001b[0m\u001b[0m\n\u001b[1;32m      6\u001b[0m \u001b[0;34m\u001b[0m\u001b[0m\n\u001b[0;32m----> 7\u001b[0;31m \u001b[0;32mfor\u001b[0m \u001b[0mline\u001b[0m \u001b[0;32min\u001b[0m \u001b[0mread_file_line_by_line\u001b[0m\u001b[0;34m(\u001b[0m\u001b[0;34m'example.txt'\u001b[0m\u001b[0;34m)\u001b[0m\u001b[0;34m:\u001b[0m\u001b[0;34m\u001b[0m\u001b[0;34m\u001b[0m\u001b[0m\n\u001b[0m\u001b[1;32m      8\u001b[0m     \u001b[0mprint\u001b[0m\u001b[0;34m(\u001b[0m\u001b[0mline\u001b[0m\u001b[0;34m)\u001b[0m\u001b[0;34m\u001b[0m\u001b[0;34m\u001b[0m\u001b[0m\n\u001b[1;32m      9\u001b[0m \u001b[0;34m\u001b[0m\u001b[0m\n",
            "\u001b[0;32m<ipython-input-1-3317aaabf2b2>\u001b[0m in \u001b[0;36mread_file_line_by_line\u001b[0;34m(filename)\u001b[0m\n\u001b[1;32m      1\u001b[0m \u001b[0;32mdef\u001b[0m \u001b[0mread_file_line_by_line\u001b[0m\u001b[0;34m(\u001b[0m\u001b[0mfilename\u001b[0m\u001b[0;34m)\u001b[0m\u001b[0;34m:\u001b[0m\u001b[0;34m\u001b[0m\u001b[0;34m\u001b[0m\u001b[0m\n\u001b[0;32m----> 2\u001b[0;31m     \u001b[0;32mwith\u001b[0m \u001b[0mopen\u001b[0m\u001b[0;34m(\u001b[0m\u001b[0mfilename\u001b[0m\u001b[0;34m,\u001b[0m \u001b[0;34m'r'\u001b[0m\u001b[0;34m)\u001b[0m \u001b[0;32mas\u001b[0m \u001b[0mfile\u001b[0m\u001b[0;34m:\u001b[0m\u001b[0;34m\u001b[0m\u001b[0;34m\u001b[0m\u001b[0m\n\u001b[0m\u001b[1;32m      3\u001b[0m         \u001b[0;32mfor\u001b[0m \u001b[0mline\u001b[0m \u001b[0;32min\u001b[0m \u001b[0mfile\u001b[0m\u001b[0;34m:\u001b[0m\u001b[0;34m\u001b[0m\u001b[0;34m\u001b[0m\u001b[0m\n\u001b[1;32m      4\u001b[0m             \u001b[0;32myield\u001b[0m \u001b[0mline\u001b[0m\u001b[0;34m.\u001b[0m\u001b[0mrstrip\u001b[0m\u001b[0;34m(\u001b[0m\u001b[0;34m'\\n'\u001b[0m\u001b[0;34m)\u001b[0m\u001b[0;34m\u001b[0m\u001b[0;34m\u001b[0m\u001b[0m\n\u001b[1;32m      5\u001b[0m \u001b[0;34m\u001b[0m\u001b[0m\n",
            "\u001b[0;31mFileNotFoundError\u001b[0m: [Errno 2] No such file or directory: 'example.txt'"
          ]
        }
      ],
      "source": [
        "def gen_func():\n",
        ""
      ]
    },
    {
      "cell_type": "markdown",
      "id": "4f266b69-1fb5-488b-bb7e-0edd20368167",
      "metadata": {
        "id": "4f266b69-1fb5-488b-bb7e-0edd20368167"
      },
      "source": [
        "# 8. Use a lambda function in Python to sort a list of tuples based on the secod element of each tuple"
      ]
    },
    {
      "cell_type": "code",
      "execution_count": null,
      "id": "0b176bcc-076b-44d6-9c37-3d4560a685f9",
      "metadata": {
        "id": "0b176bcc-076b-44d6-9c37-3d4560a685f9",
        "outputId": "f390f96e-1df5-4e9a-c581-851d474ca8d9"
      },
      "outputs": [
        {
          "data": {
            "text/plain": [
              "[('banana', 1), ('apple', 2), ('cucumber', 3)]"
            ]
          },
          "execution_count": 12,
          "metadata": {},
          "output_type": "execute_result"
        }
      ],
      "source": [
        "test_list = (('apple', 2), ('banana', 1), ('cucumber', 3))\n",
        "sorted_list = sorted(test_list, key=lambda x: x[1])\n",
        "sorted_list"
      ]
    },
    {
      "cell_type": "markdown",
      "id": "af7b1eac-0d5b-4dc5-b59d-76491f302aa9",
      "metadata": {
        "id": "af7b1eac-0d5b-4dc5-b59d-76491f302aa9"
      },
      "source": [
        "# 9. Write a Python program that uses map() to convert a list of temparature from Celcius to Fahrenheit"
      ]
    },
    {
      "cell_type": "code",
      "execution_count": null,
      "id": "2b46a0b7-ff40-47bb-acda-997825c993db",
      "metadata": {
        "id": "2b46a0b7-ff40-47bb-acda-997825c993db",
        "outputId": "117dc943-78f1-409a-98ac-1637c02b98a8"
      },
      "outputs": [
        {
          "data": {
            "text/plain": [
              "[95.0, 50.0, 71.6]"
            ]
          },
          "execution_count": 21,
          "metadata": {},
          "output_type": "execute_result"
        }
      ],
      "source": [
        "temparature = [35, 10, 22]\n",
        "list(map(lambda temparature: (temparature*9/5)+32, temparature))"
      ]
    },
    {
      "cell_type": "markdown",
      "id": "5041b2f8-1c08-4c0e-8a86-757798023f79",
      "metadata": {
        "id": "5041b2f8-1c08-4c0e-8a86-757798023f79"
      },
      "source": [
        "# 10. Create a Python program that uses filter() to remove all the vowels from a given string."
      ]
    },
    {
      "cell_type": "code",
      "execution_count": null,
      "id": "36fbab5b-951e-475e-b4d9-a2b1b2de810c",
      "metadata": {
        "id": "36fbab5b-951e-475e-b4d9-a2b1b2de810c",
        "outputId": "d755c5aa-658d-4511-cad8-1242b23309ec"
      },
      "outputs": [
        {
          "data": {
            "text/plain": [
              "['S', 'd', 'd', 'h', 'r', 't', 'h']"
            ]
          },
          "execution_count": 32,
          "metadata": {},
          "output_type": "execute_result"
        }
      ],
      "source": [
        "string = \"Siddhartha\"\n",
        "list(filter(lambda x: x not in ['a', 'e', 'i', 'o','u'], string))"
      ]
    },
    {
      "cell_type": "code",
      "execution_count": null,
      "id": "f08de8df-83fa-4ccd-a6a2-1cc4746c5f00",
      "metadata": {
        "id": "f08de8df-83fa-4ccd-a6a2-1cc4746c5f00"
      },
      "outputs": [],
      "source": []
    }
  ],
  "metadata": {
    "kernelspec": {
      "display_name": "Python 3 (ipykernel)",
      "language": "python",
      "name": "python3"
    },
    "language_info": {
      "codemirror_mode": {
        "name": "ipython",
        "version": 3
      },
      "file_extension": ".py",
      "mimetype": "text/x-python",
      "name": "python",
      "nbconvert_exporter": "python",
      "pygments_lexer": "ipython3",
      "version": "3.12.4"
    },
    "colab": {
      "provenance": [],
      "include_colab_link": true
    }
  },
  "nbformat": 4,
  "nbformat_minor": 5
}