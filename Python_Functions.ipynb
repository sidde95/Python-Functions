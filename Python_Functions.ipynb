{
  "nbformat": 4,
  "nbformat_minor": 0,
  "metadata": {
    "colab": {
      "provenance": [],
      "authorship_tag": "ABX9TyMDB02uUHO4y+VYEbCH1WpI",
      "include_colab_link": true
    },
    "kernelspec": {
      "name": "python3",
      "display_name": "Python 3"
    },
    "language_info": {
      "name": "python"
    }
  },
  "cells": [
    {
      "cell_type": "markdown",
      "metadata": {
        "id": "view-in-github",
        "colab_type": "text"
      },
      "source": [
        "<a href=\"https://colab.research.google.com/github/sidde95/Python-Functions/blob/main/Python_Functions.ipynb\" target=\"_parent\"><img src=\"https://colab.research.google.com/assets/colab-badge.svg\" alt=\"Open In Colab\"/></a>"
      ]
    },
    {
      "cell_type": "markdown",
      "source": [
        "# 1. What is the difference between a function and method in Python?"
      ],
      "metadata": {
        "id": "TTs6Pth-GoHR"
      }
    },
    {
      "cell_type": "markdown",
      "source": [
        "In python programming the terms function and method are related but have distinct meaning\n",
        "\n",
        "1. **Functions**:\n",
        "    - **Definition**:A function is a block of code designed to perform a specific task. It takes inputs (called arguments), processes them and return as output.\n",
        "    - **Usage**: Functions are usually defined outside of classes and can be called independently. They are used in many porgramming languages to organize and reuse code."
      ],
      "metadata": {
        "id": "8wkmdbIJHYsX"
      }
    },
    {
      "cell_type": "code",
      "source": [
        "def add(a, b):\n",
        "  return a+b"
      ],
      "metadata": {
        "id": "hl6-GBATIYyj"
      },
      "execution_count": null,
      "outputs": []
    },
    {
      "cell_type": "markdown",
      "source": [
        "2. **Method**:\n",
        "  - **Definition**:A method is similar to a function but is associated with an object or class. It is function that operates on the data contained within an object(in object oriented programming)\n",
        "  - **Usage**:Methods are defined within a class and are called on instances of that class(objects) or on the class itself(for class methods)"
      ],
      "metadata": {
        "id": "pFq7ud7uIeE7"
      }
    },
    {
      "cell_type": "code",
      "source": [
        "class calculator:\n",
        "  def __init__(self):\n",
        "    self.value = 0\n",
        "\n",
        "  def add(self, a, b):\n",
        "    self.value = a+b\n",
        "    return self.value"
      ],
      "metadata": {
        "id": "hxV78cVtJETU"
      },
      "execution_count": null,
      "outputs": []
    },
    {
      "cell_type": "markdown",
      "source": [
        "# 2. Explain the concept of function arguments and parameters in Python."
      ],
      "metadata": {
        "id": "z2sslj0yJTiO"
      }
    },
    {
      "cell_type": "markdown",
      "source": [
        "In Pyhton function arguments and paramters are fundamental concepts used to pass information to functions. They are closely related but have distinct roles:\n",
        "\n",
        "1. **Parameters**:\n",
        "  - **Definition**: Parameters are the variables listed in the function definition. They act as placeholders for the values that will be passed to the function when it is called.\n",
        "  - **Usage**: Parameters are used to define what kind of arguments the function expects and what names will be used to refer to those arguments inside the function.\n",
        "\n"
      ],
      "metadata": {
        "id": "YkujvvL3S_zQ"
      }
    },
    {
      "cell_type": "code",
      "source": [
        "def greet(name, age): #name and age function parameters\n",
        "  print(f\"Hello {name}! You are {age} years old.\")"
      ],
      "metadata": {
        "id": "KUqS_KQtUCsY"
      },
      "execution_count": null,
      "outputs": []
    },
    {
      "cell_type": "markdown",
      "source": [
        "2. **Arguments**:\n",
        "  - **Definition**: Arguments are the actual values or expressions you pass to the function when you call it. They corresponds to the parameters defiend in the function.\n",
        "  - **Usage** - Arguments provide the specific data that function will operate on."
      ],
      "metadata": {
        "id": "X2l0m9w0UIaK"
      }
    },
    {
      "cell_type": "code",
      "source": [
        "greet(\"Siddhartha\", 29) #Siddhartha and 29 function arguments"
      ],
      "metadata": {
        "colab": {
          "base_uri": "https://localhost:8080/"
        },
        "id": "9FW7CKQYUrnf",
        "outputId": "e37b90d8-63d3-4136-e1ed-928756d337b7"
      },
      "execution_count": null,
      "outputs": [
        {
          "output_type": "stream",
          "name": "stdout",
          "text": [
            "Hello Siddhartha! You are 29 years old.\n"
          ]
        }
      ]
    },
    {
      "cell_type": "markdown",
      "source": [
        "# 3. What are the different ways to define and call a function in Python?"
      ],
      "metadata": {
        "id": "e6Ms5erBUusx"
      }
    },
    {
      "cell_type": "markdown",
      "source": [
        "In Python, functions can be defined and called in several ways to accomodate different needs and styles of programming. Here's an overview of the different methods:\n",
        "\n",
        "\n",
        "1. **Basic Function Definition and Call**\n",
        "\n",
        "Definition:"
      ],
      "metadata": {
        "id": "lEQu_9JKcQuM"
      }
    },
    {
      "cell_type": "code",
      "source": [
        "def add(a, b):\n",
        "  return a+b"
      ],
      "metadata": {
        "id": "2-g7RQFjcy29"
      },
      "execution_count": null,
      "outputs": []
    },
    {
      "cell_type": "markdown",
      "source": [
        "Call"
      ],
      "metadata": {
        "id": "wfBVOJwIdFQl"
      }
    },
    {
      "cell_type": "code",
      "source": [
        "result = add(3, 5)\n",
        "print(result)"
      ],
      "metadata": {
        "colab": {
          "base_uri": "https://localhost:8080/"
        },
        "id": "1a0AvUrrdHX8",
        "outputId": "cb1119fe-39c6-4561-cf4c-95c46a4d844a"
      },
      "execution_count": null,
      "outputs": [
        {
          "output_type": "stream",
          "name": "stdout",
          "text": [
            "8\n"
          ]
        }
      ]
    },
    {
      "cell_type": "markdown",
      "source": [
        "2. **Functions with Default Parameters**\n",
        "\n",
        "Definition"
      ],
      "metadata": {
        "id": "owyEwM5HdLwt"
      }
    },
    {
      "cell_type": "code",
      "source": [
        "def greet(name, age = 30):\n",
        "  return f'Hello {name}, you are {age} years old'"
      ],
      "metadata": {
        "id": "xiUzGVmHdd58"
      },
      "execution_count": null,
      "outputs": []
    },
    {
      "cell_type": "markdown",
      "source": [
        "Call"
      ],
      "metadata": {
        "id": "O0W-IwV3drqc"
      }
    },
    {
      "cell_type": "code",
      "source": [
        "print(greet(\"Siddhartha\"))\n",
        "print(greet(\"Souvik\", 18))"
      ],
      "metadata": {
        "colab": {
          "base_uri": "https://localhost:8080/"
        },
        "id": "Belkt_Wsdt2U",
        "outputId": "47968d23-1539-4cb9-8b65-3f0fcc82cd0d"
      },
      "execution_count": null,
      "outputs": [
        {
          "output_type": "stream",
          "name": "stdout",
          "text": [
            "Hello Siddhartha, you are 30 years old\n",
            "Hello Souvik, you are 18 years old\n"
          ]
        }
      ]
    },
    {
      "cell_type": "markdown",
      "source": [
        "3. **Functions with variable lenght arguments**\n",
        "\n",
        "Definition\n",
        "  - '*args' for positionaal arguments"
      ],
      "metadata": {
        "id": "uzwwOYOqd3S0"
      }
    },
    {
      "cell_type": "code",
      "source": [
        "def print_numbers(*args):\n",
        "  for num in args:\n",
        "    print(num)"
      ],
      "metadata": {
        "id": "CQoeXde8gVhD"
      },
      "execution_count": null,
      "outputs": []
    },
    {
      "cell_type": "markdown",
      "source": [
        "- '*kwargs' for keyword arguments"
      ],
      "metadata": {
        "id": "JNlR62-9goQw"
      }
    },
    {
      "cell_type": "code",
      "source": [
        "def print_info(**kwargs):\n",
        "  for key, value in kwargs.items():\n",
        "    print(f\"{key}:{value}\")"
      ],
      "metadata": {
        "id": "UHIEzeoPgvUC"
      },
      "execution_count": null,
      "outputs": []
    },
    {
      "cell_type": "markdown",
      "source": [
        "Call"
      ],
      "metadata": {
        "id": "N_OSdFYQhRaK"
      }
    },
    {
      "cell_type": "code",
      "source": [
        "print_numbers(1, 2, 3, 4)\n",
        "print_info(name = \"Siddhartha\", age = 29)"
      ],
      "metadata": {
        "colab": {
          "base_uri": "https://localhost:8080/"
        },
        "id": "hF7EHwschZeS",
        "outputId": "606f0563-2fef-4b0c-b782-1b73926f28a5"
      },
      "execution_count": null,
      "outputs": [
        {
          "output_type": "stream",
          "name": "stdout",
          "text": [
            "1\n",
            "2\n",
            "3\n",
            "4\n",
            "name:Siddhartha\n",
            "age:29\n"
          ]
        }
      ]
    },
    {
      "cell_type": "markdown",
      "source": [
        "4. **Lambda Functions**: Lambda funtions are small anonymous functions defined with the lambda keyword.\n",
        "\n",
        "Definition:\n"
      ],
      "metadata": {
        "id": "faBPwR8ShhkD"
      }
    },
    {
      "cell_type": "code",
      "source": [
        "square = lambda x:x*x"
      ],
      "metadata": {
        "id": "p_pB5c-uh6Vz"
      },
      "execution_count": null,
      "outputs": []
    },
    {
      "cell_type": "markdown",
      "source": [
        "Call"
      ],
      "metadata": {
        "id": "KaqxFz0vihu1"
      }
    },
    {
      "cell_type": "code",
      "source": [
        "print(square(4))"
      ],
      "metadata": {
        "colab": {
          "base_uri": "https://localhost:8080/"
        },
        "id": "pDia3eB1ibND",
        "outputId": "6d4ccbdd-3eed-47a8-a76b-d6293107806c"
      },
      "execution_count": null,
      "outputs": [
        {
          "output_type": "stream",
          "name": "stdout",
          "text": [
            "16\n"
          ]
        }
      ]
    },
    {
      "cell_type": "markdown",
      "source": [
        "5. **Functions as Arguments(Higher Order Functions)**: Functions can accept other functions as arguments. This is common in functional programming adn useful for operations like sorting.\n",
        "\n",
        "Definition:"
      ],
      "metadata": {
        "id": "cZxlIXpHimsD"
      }
    },
    {
      "cell_type": "code",
      "source": [
        "def apply_function(func, value):\n",
        "  return func(value)\n",
        "\n",
        "def double(x):\n",
        "  return x*2"
      ],
      "metadata": {
        "id": "k_ddSk_Ai7P4"
      },
      "execution_count": null,
      "outputs": []
    },
    {
      "cell_type": "markdown",
      "source": [
        "**Call**"
      ],
      "metadata": {
        "id": "3KGh81UYjgZS"
      }
    },
    {
      "cell_type": "code",
      "source": [
        "result = apply_function(double, 5)\n",
        "print(result)"
      ],
      "metadata": {
        "colab": {
          "base_uri": "https://localhost:8080/"
        },
        "id": "28JLq5iXjT6L",
        "outputId": "ac5dd9e8-a328-44b9-fd88-664f4039f23c"
      },
      "execution_count": null,
      "outputs": [
        {
          "output_type": "stream",
          "name": "stdout",
          "text": [
            "10\n"
          ]
        }
      ]
    },
    {
      "cell_type": "markdown",
      "source": [
        "\n"
      ],
      "metadata": {
        "id": "Ur68Lvgzjaiz"
      }
    },
    {
      "cell_type": "code",
      "source": [],
      "metadata": {
        "id": "aC5uhbh42uTl"
      },
      "execution_count": null,
      "outputs": []
    },
    {
      "cell_type": "code",
      "source": [],
      "metadata": {
        "id": "dMq9SWHw2vCV"
      },
      "execution_count": null,
      "outputs": []
    },
    {
      "cell_type": "code",
      "source": [],
      "metadata": {
        "id": "jwHwUexC2vrk"
      },
      "execution_count": null,
      "outputs": []
    },
    {
      "cell_type": "code",
      "source": [],
      "metadata": {
        "id": "bccF9ABY2wF1"
      },
      "execution_count": null,
      "outputs": []
    },
    {
      "cell_type": "markdown",
      "source": [
        "# 4. What is the purpose of the return statement in Python function?"
      ],
      "metadata": {
        "id": "YUocZ8vkqq9F"
      }
    },
    {
      "cell_type": "markdown",
      "source": [
        "The return statement in a Python function serves several key purpose:\n",
        "\n",
        "1. Returning a Value: The primary purpose of the return statement is to return a value from a function to the caller. This allows the funtion to send back to the part of the program that invoked it."
      ],
      "metadata": {
        "id": "LP4NPQ-u3eYM"
      }
    },
    {
      "cell_type": "code",
      "source": [
        "def add(a, b):\n",
        "  return a+b\n",
        "\n",
        "result = add(3, 4)"
      ],
      "metadata": {
        "id": "4OwlS3MR4re7"
      },
      "execution_count": null,
      "outputs": []
    },
    {
      "cell_type": "markdown",
      "source": [
        "2. Exiting the function: When the return statement is executed, it terminated the function's execution and return control to the calling context. No code in the function after the return statement will be executed."
      ],
      "metadata": {
        "id": "ctUkYhs64xd8"
      }
    },
    {
      "cell_type": "code",
      "source": [
        "def check_number(x):\n",
        "  if x> 0:\n",
        "    return \"Positive\"\n",
        "  return \"Non Positive\"\n",
        "\n",
        "print(check_number(5))\n",
        "print(check_number(-3))\n"
      ],
      "metadata": {
        "colab": {
          "base_uri": "https://localhost:8080/"
        },
        "id": "SgZvdp575Nn7",
        "outputId": "83af7a2e-231a-4c92-b2c5-b9164a218bfd"
      },
      "execution_count": null,
      "outputs": [
        {
          "output_type": "stream",
          "name": "stdout",
          "text": [
            "Positive\n",
            "Non Positive\n"
          ]
        }
      ]
    },
    {
      "cell_type": "markdown",
      "source": [
        "3. Returning Multiple Values: Pyhton allows functions to return multiple values as a tuple, which can be unpacked by the caller."
      ],
      "metadata": {
        "id": "GfNUhzwe5rvc"
      }
    },
    {
      "cell_type": "code",
      "source": [
        "def divide_and_reminder(a, b):\n",
        "  return a//b, a%b\n",
        "\n",
        "quotient, remainder = divide_and_reminder(10, 3)"
      ],
      "metadata": {
        "id": "Y9ern3mx56HU"
      },
      "execution_count": null,
      "outputs": []
    },
    {
      "cell_type": "markdown",
      "source": [
        "4. Returing None: If a function does not explicitly use a return statement, or if the return statement does not specify a value, the function returns None by default"
      ],
      "metadata": {
        "id": "Z7SLwLjz6I-7"
      }
    },
    {
      "cell_type": "code",
      "source": [
        "def greet(name):\n",
        "  print(f\"Hello {name}\")\n",
        "\n",
        "result = greet(\"Siddhartha\")\n",
        "print(result)"
      ],
      "metadata": {
        "colab": {
          "base_uri": "https://localhost:8080/"
        },
        "id": "wlsKKKc06cSr",
        "outputId": "17ddb481-a645-4b0f-e7fe-44b14e40bc15"
      },
      "execution_count": null,
      "outputs": [
        {
          "output_type": "stream",
          "name": "stdout",
          "text": [
            "Hello Siddhartha\n",
            "None\n"
          ]
        }
      ]
    },
    {
      "cell_type": "markdown",
      "source": [
        "# 5. What are iterators in Python and how do they differ from iterables?"
      ],
      "metadata": {
        "id": "-TtVwiPj6kF0"
      }
    },
    {
      "cell_type": "markdown",
      "source": [
        "In Python, iterators and interables are fundamental concepts used to work with sequence of data in a memory efficient way. Understanding the differnce between the two is  crucial for effectively working with loops and collections.\n",
        "\n",
        "**Iterables**: An iterable in Python object capable of returning its elements one at a time, allowing it to be iterated over in a loop. Common examples include lists, tuples, dictionaries, sets and strings. An object is considered iterable if it implements the `iter()` method, which returns  an iterator.\n",
        "\n",
        "**Examples of iterables**\n",
        "- **List**: `[1, 2, 3]`\n",
        "- **Tuples**`(1, 2, 3)`\n",
        "- **Dictionaries**: `{'a':1, 'b':2, 'c':3}`\n",
        "- **Sets**:`{1, 2, 3}`\n",
        "- **Strings**:`\"abc\"`\n",
        "\n",
        "**Iterators**:\n",
        "\n",
        "An iterator is an object that represents a stream of data.It provides a way to access the elements of an iterable one at a time. Iterators are created by calling the `__iter()__` method on an iterable, which returns an iterator object. The iterator object implements two methods: `__iter()__`(returns the iterator itself) and `__next()__`(returns the next item from the sequence). When `__next()` reaches the end of the sequence, it raises a `StopIteration` exception\n",
        "\n",
        "**Example of an iterator:**"
      ],
      "metadata": {
        "id": "61N7ZpYi697T"
      }
    },
    {
      "cell_type": "code",
      "source": [
        "my_list = [1, 2, 3]\n",
        "\n",
        "my_iterator = iter(my_list)\n",
        "\n",
        "print(next(my_iterator))\n",
        "print(next(my_iterator))\n",
        "print(next(my_iterator))"
      ],
      "metadata": {
        "colab": {
          "base_uri": "https://localhost:8080/"
        },
        "id": "LuNKjdYawePt",
        "outputId": "732b3f7a-9938-4b26-e9ff-57b21f35a6b8"
      },
      "execution_count": null,
      "outputs": [
        {
          "output_type": "stream",
          "name": "stdout",
          "text": [
            "1\n",
            "2\n",
            "3\n"
          ]
        }
      ]
    },
    {
      "cell_type": "markdown",
      "source": [
        "**Key Differences**\n",
        "\n",
        "1. **Creation**:\n",
        "  - **Iterable**: Any object with an `__iter()__` method.\n",
        "  - **Iterator**: Any object with `__iter()__` and `__next()__` methods. It is created by calling `iter()` on an iterable.\n",
        "\n",
        "2. **Functionality**:\n",
        "  - **Iterable**: Can be used in a `for` loop to return its elements.\n",
        "  - **Iterator**: Provides a way to access elements sequentially without exposing the underlying structure\n",
        "\n",
        "3. **Resuablity**:\n",
        "  - **Iterable**: Can be iterated multiple times(eg. lists, tuples)\n",
        "  - **Iterator**: Can only be iterated once. After reaching the end, it cannot be resued unless explicitly reset.\n",
        "\n",
        "4. **State**:\n",
        "  - **Iterable**: Does not keep track of iteration state.\n",
        "  - **Iterator**: Maintains the state of the current position"
      ],
      "metadata": {
        "id": "yw7s-_KNwrnW"
      }
    },
    {
      "cell_type": "markdown",
      "source": [
        "# 6. Explain the concept of generators in Python and how they are defined."
      ],
      "metadata": {
        "id": "cf8ns8qtzUTU"
      }
    },
    {
      "cell_type": "markdown",
      "source": [
        "Generators in Python are a simple and pwoerful tool for creating iterators. They allow us to iterate over a sequence of values, but unlike regular functions that return a single value adn terminate, generators can yeild multiple values, pausing after each yeild and resuming where they left off. This makes them memory efficient and well suited for working with large data streams or sequences.\n",
        "\n",
        "**Defining Generators**\n",
        "Generators are defined using functions and the yeild keyword. When a generator function is called it returns a generator object without executing the function. Methods like `__iter()__` and `__next()__` are automatically implemented in the generator object, making it an iterator.\n",
        "\n",
        "\n",
        "**Example of Generator Fucntion**"
      ],
      "metadata": {
        "id": "qCsboK-UzrU9"
      }
    },
    {
      "cell_type": "code",
      "source": [
        "def simple_generator():\n",
        "  yield 1\n",
        "  yield 2\n",
        "  yield 3\n",
        "\n",
        "gen = simple_generator()\n",
        "\n",
        "print(next(gen))\n",
        "print(next(gen))\n",
        "print(next(gen))\n"
      ],
      "metadata": {
        "colab": {
          "base_uri": "https://localhost:8080/"
        },
        "id": "pOeHAU3S3U-O",
        "outputId": "5a89c303-b0e4-4c0b-e1d9-c19d1cacd705"
      },
      "execution_count": null,
      "outputs": [
        {
          "output_type": "stream",
          "name": "stdout",
          "text": [
            "1\n",
            "2\n",
            "3\n"
          ]
        }
      ]
    },
    {
      "cell_type": "markdown",
      "source": [
        "**Key Concepts of Generators**\n",
        "\n",
        "1. **Yeild Keyword**\n",
        "  - The yeild statement pauses the function saving its state adn later continues from there on successive calls to `__next__()`.\n",
        "  - Each `yeild` returns a value to the caller and suspends the function's execution`\n",
        "\n",
        "2. **State Retention**:\n",
        "  - Generators retain their state between succesive calls, making them suitable for producing a sequence of results over time instead of computing them all at once and sending them back.\n",
        "\n",
        "3. **Memory Efficiency**:\n",
        "  - Generators are memory efficint as they produce items on at a time and only when required. This is particulary useful for handling large datasets.\n",
        "\n",
        "4. **Infinite Sequences**:\n",
        "  - Generatores can be used to produce infinite sequences because they generate values on the fly and do not require storing the entire sequence in memory."
      ],
      "metadata": {
        "id": "RKSWCwoh3bWn"
      }
    },
    {
      "cell_type": "code",
      "source": [
        "def infinite_sequence():\n",
        "  num = 0\n",
        "  while True:\n",
        "    yield num\n",
        "    num += 1\n",
        "\n",
        "gen = infinite_sequence()\n",
        "\n",
        "print(next(gen))\n",
        "print(next(gen))\n",
        "print(next(gen))\n",
        "# and so on"
      ],
      "metadata": {
        "colab": {
          "base_uri": "https://localhost:8080/"
        },
        "id": "YOHwYCQA5Z1X",
        "outputId": "3b69888f-b740-45e8-af38-6314c39149b0"
      },
      "execution_count": null,
      "outputs": [
        {
          "output_type": "stream",
          "name": "stdout",
          "text": [
            "0\n",
            "1\n",
            "2\n"
          ]
        }
      ]
    },
    {
      "cell_type": "markdown",
      "source": [
        "# 7. What are the advanatges of using generators over regular functons?"
      ],
      "metadata": {
        "id": "_mvSR57v5ij3"
      }
    },
    {
      "cell_type": "markdown",
      "source": [
        "Generators have several advantages over regular functions:\n",
        "\n",
        "1. **Memory Efficiency**: Generate items on the fly without storing the entire dataset in memory.\n",
        "2. **Lazy Evaluation**: Computer values only when needed, imporving performance.\n",
        "3. **Simplified State Management**: Automatically maintain state between iterations.\n",
        "4. **Improved Performance**: Lower memory usage and deferred computation.\n",
        "5. **Natural Infinite Sequences**: Easily handle potentially unbounded sequences\n",
        "6. **Cleaner Code**: More readable and maintain for complex iteration logic."
      ],
      "metadata": {
        "id": "vKdMUC0n5tGu"
      }
    },
    {
      "cell_type": "markdown",
      "source": [
        "# 8. What is a lambda function in Python and when is it typically used?"
      ],
      "metadata": {
        "id": "1EOtCI2M-aXu"
      }
    },
    {
      "cell_type": "markdown",
      "source": [
        "A lambda function in Python is a small, anonymous function defined usingg the lambda keyword. It can have multiple arguments but only one expression. It's often used for short, throwaway functions, particularly with higher order functions like `map()`, `filter()` adn `reduce()`, or for sorting and other situations where a small function is needed temporarily.\n",
        "\n",
        "**Example**"
      ],
      "metadata": {
        "id": "3Gyh_RebCMK6"
      }
    },
    {
      "cell_type": "code",
      "source": [
        "add = lambda x, y: x+y\n",
        "print(add(3, 4))"
      ],
      "metadata": {
        "colab": {
          "base_uri": "https://localhost:8080/"
        },
        "id": "rNhJtZlADHq5",
        "outputId": "09fe285a-d7cc-4d56-826c-4581449df6a1"
      },
      "execution_count": null,
      "outputs": [
        {
          "output_type": "stream",
          "name": "stdout",
          "text": [
            "7\n"
          ]
        }
      ]
    },
    {
      "cell_type": "markdown",
      "source": [
        "# 9. Explain the purpose and usage of the map() function in Python."
      ],
      "metadata": {
        "id": "ej31eL0xDNvT"
      }
    },
    {
      "cell_type": "markdown",
      "source": [
        "The `map()` function in Python applies a given function to all items in an iterable (like a list) and returns an iterator with the results.\n",
        "\n",
        "**Syntax**: map(function, iterable, ....)\n",
        "\n",
        "\n",
        "**Example**: Transforming a list of numbers by squaring each element:"
      ],
      "metadata": {
        "id": "l6LtWYo6Dhhw"
      }
    },
    {
      "cell_type": "code",
      "source": [
        "numbers = [1, 2, 3, 4, 5]\n",
        "sqaures = map(lambda x: x**2, numbers)\n",
        "print(list(sqaures))"
      ],
      "metadata": {
        "colab": {
          "base_uri": "https://localhost:8080/"
        },
        "id": "KyzNO4S6LYBo",
        "outputId": "98f843d3-7db9-42e6-f050-6e1865825647"
      },
      "execution_count": null,
      "outputs": [
        {
          "output_type": "stream",
          "name": "stdout",
          "text": [
            "[1, 4, 9, 16, 25]\n"
          ]
        }
      ]
    },
    {
      "cell_type": "markdown",
      "source": [
        "**Purpose**:\n",
        "  - **Transformation**: Apply a function to each element of an iterable.\n",
        "  - **Efficiency**: More concise and often faster than a for loop."
      ],
      "metadata": {
        "id": "X-EB9XxRLa1x"
      }
    },
    {
      "cell_type": "markdown",
      "source": [
        "# 10. What is the difference between `map()`, `reduce()` and `filter()` functions in Python?"
      ],
      "metadata": {
        "id": "zMwwVMkwMMLP"
      }
    },
    {
      "cell_type": "markdown",
      "source": [
        "The `map()`, `reduce()` and `filter()` functions in Python are all higher order functions used to process iterables, but they serve different purposes:\n",
        "\n",
        "- `map()`\n",
        " - **Purpose**: Applies a given function to each item in an iterable and returns an iterator with the results.\n",
        " - **Usage**: When you need to transform or modify all elements in a sequence.\n",
        " - **Example**"
      ],
      "metadata": {
        "id": "YxoO3hnAPPFW"
      }
    },
    {
      "cell_type": "code",
      "source": [
        "numbers = [1, 2, 3, 4, 5]\n",
        "squares = map(lambda x: x**2, numbers)\n",
        "print(list(squares))"
      ],
      "metadata": {
        "colab": {
          "base_uri": "https://localhost:8080/"
        },
        "id": "2OBRCs5eVyfe",
        "outputId": "e97a943c-2b59-445e-e0e8-61b08ec73ae5"
      },
      "execution_count": null,
      "outputs": [
        {
          "output_type": "stream",
          "name": "stdout",
          "text": [
            "[1, 4, 9, 16, 25]\n"
          ]
        }
      ]
    },
    {
      "cell_type": "markdown",
      "source": [
        "- `reduce()`\n",
        "  - **Purpose**:Applies a goven function to each item in an iterable adn returns an iterator with the results.\n",
        "  - **Usage**: WHen you need to transform or modify all elements in a sequence"
      ],
      "metadata": {
        "id": "GIgeEPV3V7W_"
      }
    },
    {
      "cell_type": "code",
      "source": [
        "from functools import reduce\n",
        "numbers = [1, 2, 3, 4, 5]\n",
        "total = reduce(lambda x, y: x+y, numbers)\n",
        "print(total)"
      ],
      "metadata": {
        "colab": {
          "base_uri": "https://localhost:8080/"
        },
        "id": "MbVSg_KpF06V",
        "outputId": "c405f62a-ea88-4f64-ab8d-8987f9aee8a7"
      },
      "execution_count": 3,
      "outputs": [
        {
          "output_type": "stream",
          "name": "stdout",
          "text": [
            "15\n"
          ]
        }
      ]
    },
    {
      "cell_type": "markdown",
      "source": [
        "- `filter`\n",
        "  - **Purpose**: Filters items out of an iterable, returning only those that meet a specified condition.\n",
        "  - **Usage**: When you need to exclude elements that dont satisfy a condition"
      ],
      "metadata": {
        "id": "QvQVOl7oF6fd"
      }
    },
    {
      "cell_type": "code",
      "source": [
        "numbers = [1, 2, 3, 4, 5]\n",
        "even_numbers = filter(lambda x: x%2 == 0, numbers)\n",
        "print(list(even_numbers))"
      ],
      "metadata": {
        "colab": {
          "base_uri": "https://localhost:8080/"
        },
        "id": "Fvm3QlUHGiof",
        "outputId": "28987f53-0d73-4b6d-b7f6-af1e8ce4984c"
      },
      "execution_count": 4,
      "outputs": [
        {
          "output_type": "stream",
          "name": "stdout",
          "text": [
            "[2, 4]\n"
          ]
        }
      ]
    },
    {
      "cell_type": "code",
      "source": [
        "list = [47, 11, 42, 13]\n",
        "sum = reduce(lambda x, y: x+y, list)\n",
        "print(sum)"
      ],
      "metadata": {
        "colab": {
          "base_uri": "https://localhost:8080/"
        },
        "id": "wKMyc4dhGm2X",
        "outputId": "980aa3a3-9ff3-4b07-c94d-7fa0674443ec"
      },
      "execution_count": 5,
      "outputs": [
        {
          "output_type": "stream",
          "name": "stdout",
          "text": [
            "113\n"
          ]
        }
      ]
    },
    {
      "cell_type": "code",
      "source": [],
      "metadata": {
        "id": "QMcsmqeWKbx9"
      },
      "execution_count": null,
      "outputs": []
    }
  ]
}